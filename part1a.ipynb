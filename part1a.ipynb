{
 "cells": [
  {
   "cell_type": "markdown",
   "id": "a185e29a-87dd-455c-8c51-6c702706633b",
   "metadata": {},
   "source": [
    "# Task 1.1a - Exploratory data of single variables\n",
    "\n",
    "Consider the following code to produce summaries of the `Rooms`, `Price`, `Method`, `Distance` and `Landsize` variables.\n",
    "Data was only dropped if a string did not represent a number (but should have). We furthermore define helper functions\n",
    "`category_counts` and `last_less_index`."
   ]
  },
  {
   "cell_type": "code",
   "execution_count": null,
   "id": "52a66db8-c5c4-4426-ad47-3bc0a6c03f11",
   "metadata": {},
   "outputs": [],
   "source": [
    "using Pkg\n",
    "Pkg.activate(\".\")\n",
    "\n",
    "using Plots, DataFrames, CSV\n",
    "\n",
    "\n",
    "function last_less_index(item, categories)\n",
    "    for (i, cat) in enumerate(categories)\n",
    "        item < cat && return i - 1\n",
    "    end\n",
    "    return length(categories)\n",
    "end\n",
    "\n",
    "\n",
    "\"\"\"\n",
    "Count the number of items in the iterator iter belonging to each category. The\n",
    "items of iter must be totally ordered and of the same type of those in\n",
    "categories.\n",
    "\"\"\"\n",
    "function category_counts(iter, categories)\n",
    "    results = zeros(Int, length(categories))\n",
    "    for item in iter\n",
    "        results[last_less_index(item, categories)] += 1\n",
    "    end\n",
    "    return results\n",
    "end\n",
    "\n",
    "\n",
    "function category_counts(iter)\n",
    "    categories = Dict{String, Int}()\n",
    "    for item in iter\n",
    "        categories[item] = haskey(categories, item) ? categories[item] + 1 : 1\n",
    "    end\n",
    "    results = collect(categories)\n",
    "    return (first.(results), last.(results))\n",
    "end\n",
    "\n",
    "\n",
    "data = DataFrame(CSV.File(\"data/Melbourne_housing_FULL.csv\"; missingstring = \"NA\"))\n",
    "\n",
    "\n",
    "room() = bar(\n",
    "    [\"1\", \"2\", \"3\", \"4\", \"5\", \"6+\"],\n",
    "    category_counts(data.Rooms, 1:6);\n",
    "    title = \"Room Distribution\",\n",
    "    label = false)\n",
    "\n",
    "prices() = histogram(\n",
    "    [parse(Int, x) for x in data.Price if length(x) > 0];\n",
    "    title = \"Prices Distribution\",\n",
    "    legend = false)\n",
    "\n",
    "method() = bar(category_counts(data.Method)...;\n",
    "    title = \"Method\",\n",
    "    label = false)\n",
    "\n",
    "distance() = histogram(\n",
    "    [parse(Float32, x) for x in data.Distance if isdigit(first(x))];\n",
    "    title = \"Distance\",\n",
    "    xlabel = \"Distance from CBD (km)\",\n",
    "    label = false)\n",
    "\n",
    "const superscript_2 = Char(0x00B2)\n",
    "\n",
    "function landsize()\n",
    "    land_data = [parse(Int, x) for x in data.Landsize if length(x) > 0]\n",
    "    buckets = collect(0:200:1000)\n",
    "    labels = Vector{String}(undef, length(buckets))\n",
    "    for i in 2:length(buckets)\n",
    "        labels[i - 1] = \"$(buckets[i - 1])-$(buckets[i] - 1)\"\n",
    "    end\n",
    "    labels[end] = \"$(buckets[end])+\"\n",
    "    return bar(\n",
    "        labels,\n",
    "        category_counts(land_data, buckets);\n",
    "        title = \"Land Sizes\",\n",
    "        label = false,\n",
    "        xlabel = \"Land size (m$superscript_2)\")\n",
    "end"
   ]
  },
  {
   "cell_type": "code",
   "execution_count": null,
   "id": "3006f0dc-ccd1-4a5c-b137-43009695135a",
   "metadata": {},
   "outputs": [],
   "source": [
    "room()"
   ]
  },
  {
   "cell_type": "code",
   "execution_count": null,
   "id": "81202e6f-e0c5-4a0f-b139-53322c20c3a5",
   "metadata": {},
   "outputs": [],
   "source": [
    "prices()"
   ]
  },
  {
   "cell_type": "code",
   "execution_count": null,
   "id": "0fee0993-642b-4953-b1ed-8e19921a347d",
   "metadata": {},
   "outputs": [],
   "source": [
    "method()"
   ]
  },
  {
   "cell_type": "code",
   "execution_count": null,
   "id": "05405431-4238-4fe6-a717-84093b3a2360",
   "metadata": {},
   "outputs": [],
   "source": [
    "distance()"
   ]
  },
  {
   "cell_type": "code",
   "execution_count": null,
   "id": "f67f0717-e767-4697-8c6a-76682accb785",
   "metadata": {},
   "outputs": [],
   "source": [
    "landsize()"
   ]
  },
  {
   "cell_type": "code",
   "execution_count": null,
   "id": "6968491e-5698-44af-8f82-f6b1b9801540",
   "metadata": {},
   "outputs": [],
   "source": []
  }
 ],
 "metadata": {
  "kernelspec": {
   "display_name": "Julia 1.8.1",
   "language": "julia",
   "name": "julia-1.8"
  },
  "language_info": {
   "file_extension": ".jl",
   "mimetype": "application/julia",
   "name": "julia",
   "version": "1.8.1"
  }
 },
 "nbformat": 4,
 "nbformat_minor": 5
}
