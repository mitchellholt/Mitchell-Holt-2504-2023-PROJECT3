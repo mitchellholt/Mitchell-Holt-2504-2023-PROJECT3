{
 "cells": [
  {
   "cell_type": "markdown",
   "id": "a185e29a-87dd-455c-8c51-6c702706633b",
   "metadata": {},
   "source": [
    "# Task 1.1a - Exploratory data of single variables\n",
    "\n",
    "Consider the following code to produce summaries of the `Rooms`, `Price`, `Method`, `Distance` and `Landsize` variables.\n",
    "Data was only dropped if a string did not represent a number (but should have). We furthermore define helper functions\n",
    "`category_counts` and `last_less_index`."
   ]
  },
  {
   "cell_type": "code",
   "execution_count": null,
   "id": "52a66db8-c5c4-4426-ad47-3bc0a6c03f11",
   "metadata": {},
   "outputs": [],
   "source": [
    "using Pkg\n",
    "Pkg.activate(\".\")\n",
    "\n",
    "using Plots, DataFrames, CSV\n",
    "\n",
    "\n",
    "function last_less_index(item, categories)\n",
    "    for (i, cat) in enumerate(categories)\n",
    "        item < cat && return i - 1\n",
    "    end\n",
    "    return length(categories)\n",
    "end\n",
    "\n",
    "\n",
    "\"\"\"\n",
    "Count the number of items in the iterator iter belonging to each category. The\n",
    "items of iter must be totally ordered and of the same type of those in\n",
    "categories.\n",
    "\"\"\"\n",
    "function category_counts(iter, categories)\n",
    "    results = zeros(Int, length(categories))\n",
    "    for item in iter\n",
    "        results[last_less_index(item, categories)] += 1\n",
    "    end\n",
    "    return results\n",
    "end\n",
    "\n",
    "\n",
    "function category_counts(iter)\n",
    "    categories = Dict{String, Int}()\n",
    "    for item in iter\n",
    "        categories[item] = haskey(categories, item) ? categories[item] + 1 : 1\n",
    "    end\n",
    "    results = collect(categories)\n",
    "    return (first.(results), last.(results))\n",
    "end\n",
    "\n",
    "\n",
    "data = DataFrame(CSV.File(\"data/Melbourne_housing_FULL.csv\"; missingstring = \"NA\"))\n",
    "\n",
    "\n",
    "room() = bar(\n",
    "    [\"1\", \"2\", \"3\", \"4\", \"5\", \"6+\"],\n",
    "    category_counts(data.Rooms, 1:6);\n",
    "    title = \"Room Distribution\",\n",
    "    label = false)\n",
    "\n",
    "prices() = histogram(\n",
    "    [parse(Int, x) for x in data.Price if length(x) > 0];\n",
    "    title = \"Prices Distribution\",\n",
    "    legend = false)\n",
    "\n",
    "method() = bar(category_counts(data.Method)...;\n",
    "    title = \"Method\",\n",
    "    label = false)\n",
    "\n",
    "distance() = histogram(\n",
    "    [parse(Float32, x) for x in data.Distance if isdigit(first(x))];\n",
    "    title = \"Distance\",\n",
    "    xlabel = \"Distance from CBD (km)\",\n",
    "    label = false)\n",
    "\n",
    "const superscript_2 = Char(0x00B2)\n",
    "\n",
    "function landsize()\n",
    "    land_data = [parse(Int, x) for x in data.Landsize if length(x) > 0]\n",
    "    buckets = collect(0:200:1000)\n",
    "    labels = Vector{String}(undef, length(buckets))\n",
    "    for i in 2:length(buckets)\n",
    "        labels[i - 1] = \"$(buckets[i - 1])-$(buckets[i] - 1)\"\n",
    "    end\n",
    "    labels[end] = \"$(buckets[end])+\"\n",
    "    return bar(\n",
    "        labels,\n",
    "        category_counts(land_data, buckets);\n",
    "        title = \"Land Sizes\",\n",
    "        label = false,\n",
    "        xlabel = \"Land size (m$superscript_2)\")\n",
    "end"
   ]
  },
  {
   "cell_type": "code",
   "execution_count": null,
   "id": "3006f0dc-ccd1-4a5c-b137-43009695135a",
   "metadata": {},
   "outputs": [],
   "source": [
    "room()"
   ]
  },
  {
   "cell_type": "code",
   "execution_count": null,
   "id": "81202e6f-e0c5-4a0f-b139-53322c20c3a5",
   "metadata": {},
   "outputs": [],
   "source": [
    "prices()"
   ]
  },
  {
   "cell_type": "code",
   "execution_count": null,
   "id": "0fee0993-642b-4953-b1ed-8e19921a347d",
   "metadata": {},
   "outputs": [],
   "source": [
    "method()"
   ]
  },
  {
   "cell_type": "code",
   "execution_count": null,
   "id": "05405431-4238-4fe6-a717-84093b3a2360",
   "metadata": {},
   "outputs": [],
   "source": [
    "distance()"
   ]
  },
  {
   "cell_type": "code",
   "execution_count": null,
   "id": "f67f0717-e767-4697-8c6a-76682accb785",
   "metadata": {},
   "outputs": [],
   "source": [
    "landsize()"
   ]
  },
  {
   "cell_type": "markdown",
   "id": "6ebeddb4-1d12-4242-b3a2-508489c4e3aa",
   "metadata": {},
   "source": [
    "# Task 1.2a - Exploratory data analysis comparing variables"
   ]
  },
  {
   "cell_type": "code",
   "execution_count": null,
   "id": "979dcdc9-e05f-4bac-8beb-f028fb0a6768",
   "metadata": {},
   "outputs": [],
   "source": [
    "using StatsBase\n",
    "\n",
    "# drop bad data and parse \n",
    "relevant_data = select(data, [:Distance, :Rooms, :Price])\n",
    "filter!(:Distance => s -> isdigit(first(s)), relevant_data)\n",
    "filter!(:Price => s -> length(s) > 0, relevant_data)\n",
    "transform!(relevant_data, :Distance => ByRow(s -> parse(Float32, s)) => :Distance)\n",
    "transform!(relevant_data, :Price => ByRow(s -> parse(Int, s)) => :Price)\n",
    "transform!(relevant_data, :Rooms => ByRow(s -> s < 6 ? string(s) : \"6+\") => :Rooms)\n",
    "sort!(relevant_data)\n",
    "\n",
    "# Distance summary - plot price as a function of time\n",
    "distance_price() = plot(\n",
    "    relevant_data.Distance,\n",
    "    relevant_data.Price;\n",
    "    title = \"Price vs Distance\",\n",
    "    label = false,\n",
    "    xlabel = \"Distance from CBD (km)\",\n",
    "    ylabel = \"Price\")\n",
    "\n",
    "# Room summary - q1, median, q3 price (as series in a bar) for each room size.\n",
    "# We need to transform the data into a matrix where rows are different room\n",
    "#   categories, cols are q1, median, q3 resp.\n",
    "function room_price()\n",
    "    room_price_data = combine(groupby(relevant_data, :Rooms),\n",
    "        :Price => x -> tuple(nquantile(x, 4)[2:4]))\n",
    "    price_data = map(reverse ∘ first, room_price_data.Price_function)\n",
    "\n",
    "    bar_array = Array{Float64}(undef, nrow(room_price_data), 3)\n",
    "    for i in 1:nrow(room_price_data)\n",
    "        bar_array[i,:] = price_data[i]\n",
    "    end\n",
    "    return bar(room_price_data.Rooms, bar_array;\n",
    "        title = \"Price vs Rooms summary\",\n",
    "        xlabel = \"Number of rooms\",\n",
    "        ylabel = \"Price\",\n",
    "        label = [\"Q3\" \"Median\" \"Q1\"])\n",
    "end\n",
    "\n",
    "function room_distance_price()\n",
    "    room_data = filter(:Rooms => ==(\"1\"), relevant_data)\n",
    "    plt = plot(room_data.Distance, room_data.Price;\n",
    "        title = \"Price vs Distance Summary\",\n",
    "        xlabel = \"Distance from CBD (km)\",\n",
    "        ylabel = \"price\",\n",
    "        label = \"1 room\")\n",
    "    for room_size in [\"2\", \"3\", \"4\", \"5\", \"6+\"]\n",
    "        room_data = filter(:Rooms => ==(room_size), relevant_data)\n",
    "        plot!(room_data.Distance, room_data.Price;\n",
    "            label = \"$room_size rooms\")\n",
    "    end\n",
    "    return plt\n",
    "end"
   ]
  },
  {
   "cell_type": "code",
   "execution_count": null,
   "id": "bc9dab5e-663b-43d5-9a79-4322fde287b3",
   "metadata": {},
   "outputs": [],
   "source": [
    "distance_price()"
   ]
  },
  {
   "cell_type": "code",
   "execution_count": null,
   "id": "670f3936-3d88-47e4-b962-1789c8e38e0b",
   "metadata": {},
   "outputs": [],
   "source": [
    "room_price()"
   ]
  },
  {
   "cell_type": "code",
   "execution_count": null,
   "id": "e8fbfa51-6da3-438f-b176-4ed82d8a7a81",
   "metadata": {},
   "outputs": [],
   "source": [
    "room_distance_price()"
   ]
  },
  {
   "cell_type": "markdown",
   "id": "30f98301-7f1d-40a7-9eb1-d05502044e2c",
   "metadata": {},
   "source": [
    "There is a clear correlation between the number of rooms and the price, and for each fixed number of rooms\n",
    "we observe a general decrease in price as distance from the CBD increases."
   ]
  },
  {
   "cell_type": "markdown",
   "id": "2dd51ce5-1b26-45f2-b485-91b1c759eb03",
   "metadata": {},
   "source": [
    "# Task 1.3a - Exploratory data analysis over time"
   ]
  },
  {
   "cell_type": "code",
   "execution_count": null,
   "id": "fec5bd4e-d174-47bd-bd69-e24809d34347",
   "metadata": {},
   "outputs": [],
   "source": [
    "struct Date\n",
    "    month :: Int\n",
    "    year :: Int\n",
    "end\n",
    "\n",
    "# Helper functions for date\n",
    "function Base.isless(d1 :: Date, d2 :: Date)\n",
    "    d1.year == d2.year ? d1.month < d2.month : d1.year < d2.year\n",
    "end\n",
    "\n",
    "# Assume the string is formatted dd/mm/yyyy\n",
    "function parseDate(str)\n",
    "    tokens = split(str, \"/\")\n",
    "    return Date(\n",
    "        parse(Int, tokens[2]),\n",
    "        parse(Int, tokens[3]))\n",
    "end\n",
    "\n",
    "to_string(date :: Date) = \"$(date.month)/$(date.year)\"\n",
    "\n",
    "# Do data stuff idk\n",
    "relevant_data = select(data, [:Date, :Price, :Type])\n",
    "filter!(:Price => s -> length(s) > 0, relevant_data)\n",
    "transform!(relevant_data, :Price => ByRow(s -> parse(Int, s)) => :Price)\n",
    "transform!(relevant_data, :Date => ByRow(parseDate) => :Date)\n",
    "\n",
    "house_data = filter(:Type => ==(\"h\"), relevant_data)\n",
    "\n",
    "all_month_groups = groupby(relevant_data, :Date)\n",
    "house_month_groups = groupby(house_data, :Date)\n",
    "\n",
    "# Properties sold over time, with series for by volume and by value\n",
    "function properties_time_volume(data_groups, group_name)\n",
    "    volume = combine(data_groups, :Price => length)\n",
    "    return plot(0:(nrow(volume) - 1), volume.Price_length;\n",
    "        label = false,\n",
    "        xlabel = \"Number of months after $(to_string(first(volume.Date)))\",\n",
    "        ylabel = \"Number of properties sold\",\n",
    "        title = \"Volume of sales over time ($group_name)\")\n",
    "end\n",
    "\n",
    "function properties_time_value(data_groups, group_name)\n",
    "    value = combine(data_groups, :Price => sum)\n",
    "    return plot(0:(nrow(value) - 1), value.Price_sum;\n",
    "        label = false,\n",
    "        xlabel = \"Number of months after $(to_string(first(value.Date)))\",\n",
    "        ylabel = \"Total value of properties sold\",\n",
    "        title = \"Value of sales over time ($group_name)\")\n",
    "end"
   ]
  },
  {
   "cell_type": "code",
   "execution_count": null,
   "id": "3c1ba08a-42d4-4ef9-a35a-c2aa51cd0190",
   "metadata": {},
   "outputs": [],
   "source": [
    "properties_time_volume(all_month_groups, \"all properties\")"
   ]
  },
  {
   "cell_type": "code",
   "execution_count": null,
   "id": "c992708b-ccc0-4bc2-b63c-ef1c85658268",
   "metadata": {},
   "outputs": [],
   "source": [
    "properties_time_value(all_month_groups, \"all properties\")"
   ]
  },
  {
   "cell_type": "code",
   "execution_count": null,
   "id": "84d7d5dc-7be8-432b-88a3-b04442820aa8",
   "metadata": {},
   "outputs": [],
   "source": [
    "properties_time_volume(house_month_groups, \"houses only\")"
   ]
  },
  {
   "cell_type": "code",
   "execution_count": null,
   "id": "4c597386-e07b-4c4f-8843-999f66111551",
   "metadata": {},
   "outputs": [],
   "source": [
    "properties_time_value(house_month_groups, \"houses only\")"
   ]
  },
  {
   "cell_type": "markdown",
   "id": "cce6c1a1-bbc6-458d-9162-7934189dadd6",
   "metadata": {},
   "source": [
    "# Task 1.4a - Linear regression models"
   ]
  },
  {
   "cell_type": "code",
   "execution_count": null,
   "id": "edcf4a8a-ec31-4562-9cac-8dd44a140d4f",
   "metadata": {},
   "outputs": [],
   "source": []
  }
 ],
 "metadata": {
  "kernelspec": {
   "display_name": "Julia 1.8.1",
   "language": "julia",
   "name": "julia-1.8"
  },
  "language_info": {
   "file_extension": ".jl",
   "mimetype": "application/julia",
   "name": "julia",
   "version": "1.8.1"
  }
 },
 "nbformat": 4,
 "nbformat_minor": 5
}
