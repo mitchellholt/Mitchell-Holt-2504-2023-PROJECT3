{
 "cells": [
  {
   "cell_type": "markdown",
   "id": "24b07f66-6610-48d2-9c05-6f06f484968f",
   "metadata": {},
   "source": [
    "# Project 3 - 2023\n",
    "\n",
    "## Mitchell Holt (46977557)\n",
    "\n",
    "The project GitHub repository may be found [here](https://github.com/mitchellholt/Mitchell-Holt-2504-2023-PROJECT3)."
   ]
  },
  {
   "cell_type": "code",
   "execution_count": null,
   "id": "6598cdaf-07df-4c39-a96b-1bac90a7debe",
   "metadata": {},
   "outputs": [],
   "source": []
  }
 ],
 "metadata": {
  "kernelspec": {
   "display_name": "Python 3 (ipykernel)",
   "language": "python",
   "name": "python3"
  },
  "language_info": {
   "codemirror_mode": {
    "name": "ipython",
    "version": 3
   },
   "file_extension": ".py",
   "mimetype": "text/x-python",
   "name": "python",
   "nbconvert_exporter": "python",
   "pygments_lexer": "ipython3",
   "version": "3.10.12"
  }
 },
 "nbformat": 4,
 "nbformat_minor": 5
}
